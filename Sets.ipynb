{
  "nbformat": 4,
  "nbformat_minor": 0,
  "metadata": {
    "colab": {
      "name": "Sets.ipynb",
      "provenance": [],
      "collapsed_sections": [],
      "authorship_tag": "ABX9TyNEaJ5W0viczJ0vVcJ4fmU7",
      "include_colab_link": true
    },
    "kernelspec": {
      "name": "python3",
      "display_name": "Python 3"
    },
    "language_info": {
      "name": "python"
    }
  },
  "cells": [
    {
      "cell_type": "markdown",
      "metadata": {
        "id": "view-in-github",
        "colab_type": "text"
      },
      "source": [
        "<a href=\"https://colab.research.google.com/github/HarshitaDoki/Python_new/blob/Module_2/Sets.ipynb\" target=\"_parent\"><img src=\"https://colab.research.google.com/assets/colab-badge.svg\" alt=\"Open In Colab\"/></a>"
      ]
    },
    {
      "cell_type": "markdown",
      "source": [
        "A set is a collection which is unordered, unchangeable, and unindexed and do not allow duplicate values..\n",
        "Sets are written with curly brackets.\n",
        "It is also possible to use the set() constructor to make a set.\n",
        "Once a set is created, you cannot change its items, but you can add new items.\n",
        "To add one item to a set use the add() method.\n",
        "\n"
      ],
      "metadata": {
        "id": "CXbuji2r0jUh"
      }
    },
    {
      "cell_type": "code",
      "source": [
        "animals={'dog','cat','duck','dog','dog'}\n",
        "print(animals)\n",
        "print(type(animals))\n",
        "print('duck'in animals)"
      ],
      "metadata": {
        "colab": {
          "base_uri": "https://localhost:8080/"
        },
        "id": "WcPRxbia2jF_",
        "outputId": "9318b250-1443-41a8-acfc-9fb2d8117516"
      },
      "execution_count": null,
      "outputs": [
        {
          "output_type": "stream",
          "name": "stdout",
          "text": [
            "{'duck', 'cat', 'dog'}\n",
            "<class 'set'>\n",
            "True\n"
          ]
        }
      ]
    },
    {
      "cell_type": "code",
      "source": [
        "#To add items from another set into the current set, use the update() method.\n",
        "thisset = {\"apple\", \"banana\", \"cherry\"}\n",
        "tropical = {\"pineapple\", \"mango\", \"papaya\"}\n",
        "\n",
        "thisset.update(tropical)\n",
        "\n",
        "print(thisset)"
      ],
      "metadata": {
        "id": "UYxzqGQ6UmTj"
      },
      "execution_count": null,
      "outputs": []
    },
    {
      "cell_type": "code",
      "source": [
        "#To remove an item in a set, use the remove(), or the discard() method.\n",
        "animals={'dog','cat','duck','donkey'}\n",
        "animals.remove('cat')\n",
        "animals.discard('donkey')\n",
        "print(animals)\n",
        "# If the item to remove does not exist, discard() will NOT raise an error"
      ],
      "metadata": {
        "colab": {
          "base_uri": "https://localhost:8080/"
        },
        "id": "2vZACoVzVs1D",
        "outputId": "950f60d7-a51a-481d-9652-66f93ecc679c"
      },
      "execution_count": null,
      "outputs": [
        {
          "output_type": "stream",
          "name": "stdout",
          "text": [
            "{'duck', 'dog'}\n"
          ]
        }
      ]
    },
    {
      "cell_type": "markdown",
      "source": [
        "You can also use the pop() method to remove an item, but this method will remove the last item. sets are unordered, so you will not know what item that gets removed."
      ],
      "metadata": {
        "id": "lPvyP-J4XIn1"
      }
    },
    {
      "cell_type": "code",
      "source": [
        "# Remove the last item by using the pop() method\n",
        "animals={'dog','cat','duck','donkey'}\n",
        "x=animals.pop()\n",
        "print(x)\n",
        "print(animals)"
      ],
      "metadata": {
        "colab": {
          "base_uri": "https://localhost:8080/"
        },
        "id": "vxj-S2-2WS0c",
        "outputId": "1c70b86e-10b7-4d0c-a0bf-6717a506c849"
      },
      "execution_count": null,
      "outputs": [
        {
          "output_type": "stream",
          "name": "stdout",
          "text": [
            "duck\n",
            "{'cat', 'donkey', 'dog'}\n"
          ]
        }
      ]
    },
    {
      "cell_type": "code",
      "source": [
        "#The clear() method empties the set\n",
        "#The del keyword will delete the set completely\n",
        "fruits = {\"apple\", \"banana\", \"cherry\"}\n",
        "fruits.clear()\n",
        "print(fruits)"
      ],
      "metadata": {
        "id": "DaUrYwYCXRw7"
      },
      "execution_count": null,
      "outputs": []
    },
    {
      "cell_type": "code",
      "source": [
        "# Loop through the set, and print the values\n",
        "animals={'dog','cat','duck','donkey'}\n",
        "for x in animals:\n",
        "  print(x)"
      ],
      "metadata": {
        "colab": {
          "base_uri": "https://localhost:8080/"
        },
        "id": "38cupgYeXyPz",
        "outputId": "14039e4e-627d-4ca2-b3e7-a45184d0f6b4"
      },
      "execution_count": null,
      "outputs": [
        {
          "output_type": "stream",
          "name": "stdout",
          "text": [
            "duck\n",
            "cat\n",
            "donkey\n",
            "dog\n"
          ]
        }
      ]
    },
    {
      "cell_type": "markdown",
      "source": [
        "You can use the union() method that returns a new set containing all items from both sets, or the update() method that inserts all the items from one set into another:"
      ],
      "metadata": {
        "id": "ZtYGMmDnYeCE"
      }
    },
    {
      "cell_type": "code",
      "source": [
        "#Join Two Sets\n",
        "set1 = {\"a\", \"b\" , \"c\"}\n",
        "set2 = {1, 2, 3}\n",
        "\n",
        "set3 = set1.union(set2)\n",
        "print(set3)"
      ],
      "metadata": {
        "colab": {
          "base_uri": "https://localhost:8080/"
        },
        "id": "NzaEMWp6Yf7c",
        "outputId": "a59adbdc-1bf2-4769-c6ba-22530fea89ba"
      },
      "execution_count": null,
      "outputs": [
        {
          "output_type": "stream",
          "name": "stdout",
          "text": [
            "{1, 'a', 2, 3, 'b', 'c'}\n"
          ]
        }
      ]
    },
    {
      "cell_type": "code",
      "source": [
        "#Join Two Sets\n",
        "set1 = {\"apple\", \"box\" , \"cat\"}\n",
        "set2 = {1, 2, 3}\n",
        "\n",
        "set1.update(set2)\n",
        "print(set1)\n"
      ],
      "metadata": {
        "colab": {
          "base_uri": "https://localhost:8080/"
        },
        "id": "P7TvJtn3YuaE",
        "outputId": "5889982b-b0ab-4898-8294-dfa72e7950e6"
      },
      "execution_count": null,
      "outputs": [
        {
          "output_type": "stream",
          "name": "stdout",
          "text": [
            "{1, 'cat', 2, 3, 'box', 'apple'}\n"
          ]
        }
      ]
    },
    {
      "cell_type": "code",
      "source": [
        "# The intersection_update() method will keep only the items that are present in both sets.\n",
        "x = {\"apple\", \"banana\", \"cherry\"}\n",
        "y = {\"google\", \"microsoft\", \"apple\"}\n",
        "x.intersection_update(y)\n",
        "print(x)"
      ],
      "metadata": {
        "colab": {
          "base_uri": "https://localhost:8080/"
        },
        "id": "TCSooeD2Y8ek",
        "outputId": "26cf949b-18ab-44b9-bf72-21f334e0c35a"
      },
      "execution_count": null,
      "outputs": [
        {
          "output_type": "stream",
          "name": "stdout",
          "text": [
            "{'apple'}\n"
          ]
        }
      ]
    },
    {
      "cell_type": "code",
      "source": [
        "#The intersection() method will return a new set, that only contains the items that are present in both sets.\n",
        "x = {\"apple\", \"banana\", \"cherry\"}\n",
        "y = {\"google\", \"microsoft\", \"apple\"}\n",
        "z = x.intersection(y)\n",
        "print(z)"
      ],
      "metadata": {
        "colab": {
          "base_uri": "https://localhost:8080/"
        },
        "id": "Te-UtLaPZkeM",
        "outputId": "b380249f-6257-44ab-e47c-1c9a9086a781"
      },
      "execution_count": null,
      "outputs": [
        {
          "output_type": "stream",
          "name": "stdout",
          "text": [
            "{'apple'}\n"
          ]
        }
      ]
    },
    {
      "cell_type": "code",
      "source": [
        "#The symmetric_difference_update() method will keep only the elements that are NOT present in both sets.\n",
        "x = {\"apple\", \"banana\", \"cherry\"}\n",
        "y = {\"google\", \"microsoft\", \"apple\"}\n",
        "x.symmetric_difference_update(y)\n",
        "print(x)"
      ],
      "metadata": {
        "colab": {
          "base_uri": "https://localhost:8080/"
        },
        "id": "u4w40rtFaG5t",
        "outputId": "bab95227-5360-4fca-80da-b502dfb799b8"
      },
      "execution_count": null,
      "outputs": [
        {
          "output_type": "stream",
          "name": "stdout",
          "text": [
            "{'microsoft', 'cherry', 'google', 'banana'}\n"
          ]
        }
      ]
    },
    {
      "cell_type": "code",
      "source": [
        "#The symmetric_difference() method will return a new set, that contains only the elements that are NOT present in both sets.\n",
        "x = {\"apple\", \"banana\", \"cherry\"}\n",
        "y = {\"google\", \"microsoft\", \"apple\"}\n",
        "z = x.symmetric_difference(y)\n",
        "print(z)"
      ],
      "metadata": {
        "id": "2_RBRbC1aRm1"
      },
      "execution_count": null,
      "outputs": []
    }
  ]
}