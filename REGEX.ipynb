{
  "nbformat": 4,
  "nbformat_minor": 0,
  "metadata": {
    "colab": {
      "name": "REGEX",
      "provenance": [],
      "collapsed_sections": [],
      "authorship_tag": "ABX9TyOtNYDXdBb/mbTQoISIaPDk",
      "include_colab_link": true
    },
    "kernelspec": {
      "name": "python3",
      "display_name": "Python 3"
    },
    "language_info": {
      "name": "python"
    }
  },
  "cells": [
    {
      "cell_type": "markdown",
      "metadata": {
        "id": "view-in-github",
        "colab_type": "text"
      },
      "source": [
        "<a href=\"https://colab.research.google.com/github/HarshitaDoki/Python_new/blob/Module_5/REGEX.ipynb\" target=\"_parent\"><img src=\"https://colab.research.google.com/assets/colab-badge.svg\" alt=\"Open In Colab\"/></a>"
      ]
    },
    {
      "cell_type": "code",
      "source": [
        "import re\n"
      ],
      "metadata": {
        "id": "sfcoZQJfsYNE"
      },
      "execution_count": null,
      "outputs": []
    },
    {
      "cell_type": "code",
      "execution_count": null,
      "metadata": {
        "id": "G6yPNWfhn7r7",
        "colab": {
          "base_uri": "https://localhost:8080/"
        },
        "outputId": "2fad8629-eff3-4d04-8366-c8950769c223"
      },
      "outputs": [
        {
          "output_type": "stream",
          "name": "stdout",
          "text": [
            "['a', 'b', 'b', 'b', 'b', 'k', 'j', 'a', 'h', 'A', 'f', 'b', 'j', 'h', 'f', 'a', 'u', 'f', 'b', '2', '3', '5']\n"
          ]
        }
      ],
      "source": [
        "#Write a Python program to check that a string contains only a certain set of characters (in this case a-z, A-Z and 0-9).\n",
        "import re\n",
        "n=\"abbbbkjahAfb jhfau fb235\"\n",
        "# print(re.findall(\"\\w\",n))\n",
        "r=re.findall(\"[a-zA-Z0-9]\",n)\n",
        "print(r)"
      ]
    },
    {
      "cell_type": "code",
      "source": [
        "#Write a Python program that matches a string that has an a followed by zero or more b's\n",
        "import re\n",
        "txt = \"today abhi came to akshara to ask about abstract\"\n",
        "x = re.findall(r\"ab*\", txt)\n",
        "print(x)\n"
      ],
      "metadata": {
        "colab": {
          "base_uri": "https://localhost:8080/"
        },
        "id": "FWzC-QgXrmiF",
        "outputId": "7fccbcf6-f32d-4ef0-ca53-a9a5c2b9fa59"
      },
      "execution_count": null,
      "outputs": [
        {
          "output_type": "stream",
          "name": "stdout",
          "text": [
            "['a', 'ab', 'a', 'a', 'a', 'a', 'a', 'ab', 'ab', 'a']\n"
          ]
        }
      ]
    },
    {
      "cell_type": "code",
      "source": [
        "#Write a Python program that matches a string that has an a followed by one or more b's\n",
        "import re\n",
        "txt = \"today evening ,abhi came to akshara and abbas to ask about abstract \"\n",
        "x = re.findall(\"ab+\", txt)\n",
        "print(x)"
      ],
      "metadata": {
        "colab": {
          "base_uri": "https://localhost:8080/"
        },
        "id": "qdPiPpXVt0mk",
        "outputId": "d955d0e9-efd5-4a69-e056-655024bd6872"
      },
      "execution_count": null,
      "outputs": [
        {
          "output_type": "stream",
          "name": "stdout",
          "text": [
            "['ab', 'abb', 'ab', 'ab']\n"
          ]
        }
      ]
    },
    {
      "cell_type": "code",
      "source": [
        "#Write a Python program that matches a string that has an a followed by zero or one 'b'\n",
        "import re\n",
        "txt = \"today evening ,abhi came to akshara and abbas to ask about abstract \"\n",
        "x = re.findall(\"ab?\", txt)\n",
        "print(x)"
      ],
      "metadata": {
        "colab": {
          "base_uri": "https://localhost:8080/"
        },
        "id": "fiHw1UfwvNwk",
        "outputId": "770fb864-b26c-4c7d-dae9-e89f84a913f3"
      },
      "execution_count": null,
      "outputs": [
        {
          "output_type": "stream",
          "name": "stdout",
          "text": [
            "['a', 'ab', 'a', 'a', 'a', 'a', 'a', 'ab', 'a', 'a', 'ab', 'ab', 'a']\n"
          ]
        }
      ]
    },
    {
      "cell_type": "code",
      "source": [
        "#Write a Python program that matches a string that has an a followed by three 'b'\n",
        "import re\n",
        "txt = \"abhi came to akshara and abbas to ask about abstract abbbaah \"\n",
        "#x = re.findall(r\"a.{2}b\", txt)\n",
        "x=re.findall(r\"abbb\",txt)\n",
        "print(x)"
      ],
      "metadata": {
        "colab": {
          "base_uri": "https://localhost:8080/"
        },
        "id": "y6SQN5v3v7sc",
        "outputId": "f6d34c7c-8e97-47b0-847b-e352398f9f81"
      },
      "execution_count": null,
      "outputs": [
        {
          "output_type": "stream",
          "name": "stdout",
          "text": [
            "['abbb']\n"
          ]
        }
      ]
    },
    {
      "cell_type": "code",
      "source": [
        "#Write a Python program to find sequences of lowercase letters joined with an underscore\n",
        "import re\n",
        "txt = \"Th_e ra_in in Sp_ain\"\n",
        "x = re.findall(\"[a-z]_\", txt)\n",
        "print(x)"
      ],
      "metadata": {
        "id": "L0kuDIpAxJQE",
        "colab": {
          "base_uri": "https://localhost:8080/"
        },
        "outputId": "58c85db0-caf2-4d41-8b0d-7d8b687a7d40"
      },
      "execution_count": null,
      "outputs": [
        {
          "output_type": "stream",
          "name": "stdout",
          "text": [
            "['h_', 'a_', 'p_']\n"
          ]
        }
      ]
    },
    {
      "cell_type": "code",
      "source": [
        "#find the sequences of one uppercase letter followed by lower case letters and it should end with lowercase letters\n",
        "import re\n",
        "txt=\"hsdd Ahsja ASasba\"\n",
        "x=re.findall(r\"[A-Z][a-z]*[a-z]\\b\",txt)\n",
        "print(x)"
      ],
      "metadata": {
        "colab": {
          "base_uri": "https://localhost:8080/"
        },
        "id": "aSAYXvuPwkNi",
        "outputId": "f867dae3-47a8-47ea-d74b-7aa8319f46dd"
      },
      "execution_count": null,
      "outputs": [
        {
          "output_type": "stream",
          "name": "stdout",
          "text": [
            "['Ahsja', 'Sasba']\n"
          ]
        }
      ]
    },
    {
      "cell_type": "code",
      "source": [
        "#program that matches  a string that has 'A' followed by any character and it should end with 'B'\n",
        "import re\n",
        "txt=\"hsdd Ahsja ASasbaB ajdhAB ahs\"\n",
        "x=re.findall(r\"A.*(B\\b)\",txt)\n",
        "print(x)"
      ],
      "metadata": {
        "colab": {
          "base_uri": "https://localhost:8080/"
        },
        "id": "zhRZ5Svhy2cF",
        "outputId": "493753c8-195d-4cf5-84b4-e0aad0c58bbe"
      },
      "execution_count": null,
      "outputs": [
        {
          "output_type": "stream",
          "name": "stdout",
          "text": [
            "['B']\n"
          ]
        }
      ]
    },
    {
      "cell_type": "code",
      "source": [
        "import re\n",
        "n='''akjhgfbc aduib'''\n",
        "r=re.findall(\"^a.*b$\",n)#findall\n",
        "print(r)\n",
        "if r:\n",
        "  print(\"yes\")\n",
        "else:\n",
        "  print(\"no\")"
      ],
      "metadata": {
        "colab": {
          "base_uri": "https://localhost:8080/"
        },
        "id": "lM2pRfusCltq",
        "outputId": "b040c713-9166-4fdb-fba9-66838bbd35f1"
      },
      "execution_count": null,
      "outputs": [
        {
          "output_type": "stream",
          "name": "stdout",
          "text": [
            "['akjhgfbc aduib']\n",
            "yes\n"
          ]
        }
      ]
    }
  ]
}