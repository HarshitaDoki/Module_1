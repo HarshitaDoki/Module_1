{
  "nbformat": 4,
  "nbformat_minor": 0,
  "metadata": {
    "colab": {
      "name": "assignment_3",
      "provenance": [],
      "collapsed_sections": [],
      "authorship_tag": "ABX9TyMpRhg1bXXfzeKlA0MaP1sX",
      "include_colab_link": true
    },
    "kernelspec": {
      "name": "python3",
      "display_name": "Python 3"
    },
    "language_info": {
      "name": "python"
    }
  },
  "cells": [
    {
      "cell_type": "markdown",
      "metadata": {
        "id": "view-in-github",
        "colab_type": "text"
      },
      "source": [
        "<a href=\"https://colab.research.google.com/github/HarshitaDoki/Python_new/blob/Module_2/assignment_3.ipynb\" target=\"_parent\"><img src=\"https://colab.research.google.com/assets/colab-badge.svg\" alt=\"Open In Colab\"/></a>"
      ]
    },
    {
      "cell_type": "code",
      "execution_count": null,
      "metadata": {
        "colab": {
          "base_uri": "https://localhost:8080/"
        },
        "id": "JXS5eTo-Gnid",
        "outputId": "b9437a44-1650-485f-c939-f03f0075e438"
      },
      "outputs": [
        {
          "output_type": "stream",
          "name": "stdout",
          "text": [
            "25\n",
            "50\n",
            "29\n",
            "31\n",
            "37\n",
            "41\n",
            "43\n",
            "47\n"
          ]
        }
      ],
      "source": [
        "#1. print prime nums in a range\n",
        "def primes(n,m):\n",
        "  for i in range (n,m+1):\n",
        "    c=0\n",
        "    for j in range(2,i):\n",
        "      if i%j==0:\n",
        "         c=c+1\n",
        "    if c==0:\n",
        "      print(i)      \n",
        "n=int(input())\n",
        "m=int(input())\n",
        "primes(n,m)"
      ]
    },
    {
      "cell_type": "code",
      "source": [
        "#2.WAP to read any month in integer and display no of days \n",
        "def md(n):\n",
        "  if n==1 or n==3 or n==5 or n==7or n==9or n==11:\n",
        "    print('31 days')\n",
        "  elif n==4or n==6 or n==8 or n==12:\n",
        "    print('30 days')  \n",
        "  else:\n",
        "    print('28 days')\n",
        "n=int(input(\"enter month num\"))\n",
        "md(n)"
      ],
      "metadata": {
        "colab": {
          "base_uri": "https://localhost:8080/"
        },
        "id": "GcPWfBaZIHWr",
        "outputId": "1cc40880-a26f-4135-f346-dfaae4cc6074"
      },
      "execution_count": null,
      "outputs": [
        {
          "output_type": "stream",
          "name": "stdout",
          "text": [
            "enter month num5\n",
            "31 days\n"
          ]
        }
      ]
    },
    {
      "cell_type": "code",
      "source": [
        "#3. print even length words in string\n",
        "s=input()\n",
        "s=s.split(' ')\n",
        "for x in s :\n",
        "  if len(x)%2==0:\n",
        "    print(x,end=\" \")\n",
        "   "
      ],
      "metadata": {
        "colab": {
          "base_uri": "https://localhost:8080/"
        },
        "id": "wI1RQCbwKN7X",
        "outputId": "9d94574f-53e1-4749-b27c-c76909353bb3"
      },
      "execution_count": null,
      "outputs": [
        {
          "output_type": "stream",
          "name": "stdout",
          "text": [
            "i am harshita\n",
            "am harshita "
          ]
        }
      ]
    },
    {
      "cell_type": "code",
      "source": [
        "#4. WAP to capitalise the first and last letter of each word\n",
        "a=input()\n",
        "b=a.split(' ')\n",
        "s=' '\n",
        "for i in b:\n",
        "  x=i.capitalize()\n",
        "  y=i[-1].capitalize()\n",
        "  s=x[0:-1]+y\n",
        "  print(s,end=' ')"
      ],
      "metadata": {
        "colab": {
          "base_uri": "https://localhost:8080/"
        },
        "id": "69uz83_OL5vo",
        "outputId": "31be9cd8-17c2-44c7-825d-371dc1ace4fa"
      },
      "execution_count": null,
      "outputs": [
        {
          "output_type": "stream",
          "name": "stdout",
          "text": [
            "my name is xyz\n",
            "MY NamE IS XyZ "
          ]
        }
      ]
    },
    {
      "cell_type": "code",
      "source": [
        "#5.convert multiple to single integer\n",
        "a=eval(input(\"enter list of nums\"))\n",
        "b=' '\n",
        "for i in a:\n",
        "  b=b+str(i)\n",
        "print(b)  \n"
      ],
      "metadata": {
        "colab": {
          "base_uri": "https://localhost:8080/"
        },
        "id": "W1x5GsCbN9pe",
        "outputId": "8ca19631-efe3-4459-e28a-03f5db7aefd9"
      },
      "execution_count": null,
      "outputs": [
        {
          "output_type": "stream",
          "name": "stdout",
          "text": [
            "enter list of nums[11,66,45]\n",
            " 116645\n"
          ]
        }
      ]
    },
    {
      "cell_type": "code",
      "source": [
        "#6.a. find power of nuum with recursion\n",
        "def power(n,p):\n",
        "   if p>0:\n",
        "     return n*power(n,p-1)\n",
        "   else:\n",
        "     return 1  \n",
        "n=int(input())\n",
        "p=int(input()) \n",
        "f=power(n,p)\n",
        "print(f)"
      ],
      "metadata": {
        "id": "DZal1m5kOilJ",
        "colab": {
          "base_uri": "https://localhost:8080/"
        },
        "outputId": "43589837-f118-45aa-ee25-16575d5bc377"
      },
      "execution_count": null,
      "outputs": [
        {
          "output_type": "stream",
          "name": "stdout",
          "text": [
            "2\n",
            "4\n",
            "16\n"
          ]
        }
      ]
    },
    {
      "cell_type": "code",
      "source": [
        "#6.b.find power of num without recursion\n",
        "n=int(input())\n",
        "p=int(input())\n",
        "print(pow(n,p))"
      ],
      "metadata": {
        "colab": {
          "base_uri": "https://localhost:8080/"
        },
        "id": "3iv8mGsmKrcg",
        "outputId": "191d56a7-06e3-4dcb-e159-24d0c3e513fa"
      },
      "execution_count": null,
      "outputs": [
        {
          "output_type": "stream",
          "name": "stdout",
          "text": [
            "2\n",
            "4\n",
            "16\n"
          ]
        }
      ]
    },
    {
      "cell_type": "code",
      "source": [
        "#7.sort tuples by list of digits\n",
        "s=[(3,4,6,723),(1,2),(134,234,34)]\n",
        "s.sort()\n",
        "print(s)    "
      ],
      "metadata": {
        "colab": {
          "base_uri": "https://localhost:8080/"
        },
        "id": "UXiiR9p4K-RF",
        "outputId": "33f3e0aa-0a9a-4aff-ab34-c0c94a2b01b5"
      },
      "execution_count": null,
      "outputs": [
        {
          "output_type": "stream",
          "name": "stdout",
          "text": [
            "[(1, 2), (3, 4, 6, 723), (134, 234, 34)]\n"
          ]
        }
      ]
    },
    {
      "cell_type": "code",
      "source": [
        "#8.Accepting 5 different subject marks from user and displaying the grade of the student.\n",
        "s1=float(input('enter marks of sub1'))\n",
        "s2=float(input('enter marks of sub2'))\n",
        "s3=float(input('enter marks of sub3'))\n",
        "s4=float(input('enter marks of sub4'))\n",
        "s5=float(input('enter marks of sub5'))\n",
        "avg=(s1+s2+s3+s4+s5)/5\n",
        "if avg<=100 and avg>=90:\n",
        "  print('O grade')\n",
        "elif avg<=89 and avg>=80:\n",
        "  print('A+ grade')\n",
        "elif avg<=79 and avg>=70:\n",
        "  print('A grade')\n",
        "elif avg<=69 and avg>=60:\n",
        "  print('B+ grade')   \n",
        "elif avg<=59 and avg>=50:     \n",
        "   print('Pass')\n",
        "else:\n",
        "   print('fail')"
      ],
      "metadata": {
        "id": "Vh_PHKwHsgFC"
      },
      "execution_count": null,
      "outputs": []
    },
    {
      "cell_type": "code",
      "source": [
        "# 9.WAP to print 1 if given nums are in ascending or descending\n",
        "a=[1,2,3,4,5,6]\n",
        "k=l=0\n",
        "m=len(a)\n",
        "for i in range(0,m-1):\n",
        "  if a[i]<=a[i+1]:\n",
        "    k=k+1\n",
        "  elif a[i]>=a[i+1]:\n",
        "    l=l+1\n",
        "if k==m-1 or l==m-1:\n",
        "  print(\"1\")  \n",
        "\n"
      ],
      "metadata": {
        "colab": {
          "base_uri": "https://localhost:8080/"
        },
        "id": "BpByTelZydad",
        "outputId": "567bd261-044f-436a-b246-b9da8191e0ec"
      },
      "execution_count": null,
      "outputs": [
        {
          "output_type": "stream",
          "name": "stdout",
          "text": [
            "1\n"
          ]
        }
      ]
    },
    {
      "cell_type": "code",
      "source": [
        "#10.perfect num or not\n",
        "a=int(input('enter a num'))\n",
        "s=0\n",
        "for i in range(1,a):\n",
        " if a%i==0:\n",
        "   s=s+i\n",
        "if s==a:\n",
        "  print(a,'is a perfect num')\n",
        "else:\n",
        "  print(a,'is not a perfect num')  "
      ],
      "metadata": {
        "colab": {
          "base_uri": "https://localhost:8080/"
        },
        "id": "aibIvXh838oz",
        "outputId": "084f0c3f-bc90-41e3-dcda-c2982dc5eaf4"
      },
      "execution_count": null,
      "outputs": [
        {
          "output_type": "stream",
          "name": "stdout",
          "text": [
            "enter a num28\n",
            "28 is a perfect num\n"
          ]
        }
      ]
    },
    {
      "cell_type": "code",
      "source": [
        "#11.check whether given string is palindrome or not\n",
        "a=\"malayalam\"\n",
        "k=len(a)\n",
        "l=0\n",
        "for i in range(0,(k-1)//2):\n",
        "  if a[i]==a[k-1-i]:\n",
        "    l=l+1\n",
        "if l==(k-1)//2 :\n",
        "  print(\"string is a palindrome\")   "
      ],
      "metadata": {
        "colab": {
          "base_uri": "https://localhost:8080/"
        },
        "id": "-T351Rn84ppI",
        "outputId": "a2a1c1c6-2aad-4185-9366-11c41e2e094a"
      },
      "execution_count": null,
      "outputs": [
        {
          "output_type": "stream",
          "name": "stdout",
          "text": [
            "string is a palindrome\n"
          ]
        }
      ]
    },
    {
      "cell_type": "code",
      "source": [
        "#12.Compute GCD of two given numbers\n",
        "a=int(input('enter a num'))\n",
        "b=int(input('enter a num'))\n",
        "gcd=1\n",
        "if a<b:\n",
        "  for i in range(1,a):\n",
        "    if a%i==0 and b%i==0 and i>=gcd:\n",
        "       gcd=i\n",
        "elif a>b:\n",
        "  for i in range(1,b):\n",
        "     if a%i==0 and b%i==0 and i>=gcd:\n",
        "          gcd=i\n",
        "else:  # a=b........\n",
        "  gcd=a\n",
        "print('gcd of',a,'and',b,'is',gcd)  "
      ],
      "metadata": {
        "colab": {
          "base_uri": "https://localhost:8080/"
        },
        "id": "Eu_hrsyJ6htS",
        "outputId": "998e1758-b72f-41db-e088-04102f4dc794"
      },
      "execution_count": null,
      "outputs": [
        {
          "output_type": "stream",
          "name": "stdout",
          "text": [
            "enter a num5\n",
            "enter a num3\n",
            "gcd of 5 and 3 is 1\n"
          ]
        }
      ]
    },
    {
      "cell_type": "code",
      "source": [
        "#13.print sum of even digits in a num\n",
        "a=int(input(\"enter a num\"))\n",
        "c=r=0\n",
        "while(a!=0):\n",
        "  r=a%10\n",
        "  a=a//10\n",
        "  if r%2==0:\n",
        "    c=c+r\n",
        "print(c)    "
      ],
      "metadata": {
        "colab": {
          "base_uri": "https://localhost:8080/"
        },
        "id": "i0lIBobG6yn_",
        "outputId": "09ba3648-9c2d-47de-984a-6d2f55fcdfdd"
      },
      "execution_count": null,
      "outputs": [
        {
          "output_type": "stream",
          "name": "stdout",
          "text": [
            "enter a num25634\n",
            "12\n"
          ]
        }
      ]
    },
    {
      "cell_type": "code",
      "source": [
        "#14.print sum of squares of digits of a num\n",
        "a=int(input(\" enter a num\"))\n",
        "s=0\n",
        "while(a!=0):\n",
        "  r=a%10\n",
        "  a=a//10\n",
        "  s=s+pow(r,2)\n",
        "print(s)  "
      ],
      "metadata": {
        "colab": {
          "base_uri": "https://localhost:8080/"
        },
        "id": "t4RAhLun7eoX",
        "outputId": "49d182b4-d375-47b0-b5e7-451b1877b168"
      },
      "execution_count": null,
      "outputs": [
        {
          "output_type": "stream",
          "name": "stdout",
          "text": [
            " enter a num123\n",
            "14\n"
          ]
        }
      ]
    },
    {
      "cell_type": "code",
      "source": [
        "#15.dispaly how many times ith character from the front equals last ith element\n",
        "s='abcdefcba'\n",
        "k=len(s)\n",
        "c=0\n",
        "for i in range(k):\n",
        "  for j in range(i+1,k):\n",
        "    if s[i]==s[j]:\n",
        "      c=c+1\n",
        "print(c)      "
      ],
      "metadata": {
        "id": "gdPZvPWv8J5M",
        "colab": {
          "base_uri": "https://localhost:8080/"
        },
        "outputId": "0ddfdfe8-65a6-4863-bc3a-b5fc7d601a96"
      },
      "execution_count": null,
      "outputs": [
        {
          "output_type": "stream",
          "name": "stdout",
          "text": [
            "3\n"
          ]
        }
      ]
    },
    {
      "cell_type": "code",
      "source": [
        "#16.input n,return a list containing 1223334444 and finally n repeated n times\n",
        "n=int(input())\n",
        "l=0\n",
        "for i in range(1,n+1):\n",
        "  for k in range(1,i+1):\n",
        "    print(i,end=\"\")   "
      ],
      "metadata": {
        "colab": {
          "base_uri": "https://localhost:8080/"
        },
        "id": "Dp4jPDceBG0V",
        "outputId": "35b550dc-6751-4079-c3ed-cedbec2962f1"
      },
      "execution_count": null,
      "outputs": [
        {
          "output_type": "stream",
          "name": "stdout",
          "text": [
            "4\n",
            "1223334444"
          ]
        }
      ]
    },
    {
      "cell_type": "code",
      "source": [
        "#17. no of vowels and consonants\n",
        "s='gitam university'\n",
        "v=c=0\n",
        "for i in s:\n",
        "  if i=='a' or i=='e' or i=='i' or i=='o' or i=='u' or i=='A' or i=='E' or i=='I' or i=='O' or i=='U':\n",
        "    v=v+1\n",
        "  else:\n",
        "    c=c+1  \n",
        "print('no of vowels are',v,'no of consonants are',c)    \n",
        "\n"
      ],
      "metadata": {
        "colab": {
          "base_uri": "https://localhost:8080/"
        },
        "id": "SZxlnQlZOvUB",
        "outputId": "f1893bff-6c43-4e1f-aab7-289242d7f1dc"
      },
      "execution_count": null,
      "outputs": [
        {
          "output_type": "stream",
          "name": "stdout",
          "text": [
            "no of vowels are 6 no of consonants are 10\n"
          ]
        }
      ]
    },
    {
      "cell_type": "code",
      "source": [
        "#18. print ascending or descending\n",
        "n=int(input())\n",
        "m=int(input())\n",
        "if n<m:\n",
        "  for i in range(n,m+1):\n",
        "    print(n)\n",
        "    n+=1\n",
        "else:\n",
        "  for i in range(m,n+1):\n",
        "    print(m)\n",
        "    m+=1"
      ],
      "metadata": {
        "colab": {
          "base_uri": "https://localhost:8080/"
        },
        "id": "NyEjz-BARZBz",
        "outputId": "182c6c0b-b5f5-4228-9e75-09726aa592d4"
      },
      "execution_count": null,
      "outputs": [
        {
          "output_type": "stream",
          "name": "stdout",
          "text": [
            "3\n",
            "15\n",
            "3\n",
            "4\n",
            "5\n",
            "6\n",
            "7\n",
            "8\n",
            "9\n",
            "10\n",
            "11\n",
            "12\n",
            "13\n",
            "14\n",
            "15\n"
          ]
        }
      ]
    },
    {
      "cell_type": "code",
      "source": [
        "#19.greatest of 3\n",
        "a=int(input())\n",
        "b=int(input())\n",
        "c=int(input())\n",
        "if a>b and a>c:\n",
        "  print(a,'is the greatest num')\n",
        "elif b>a and b>c:\n",
        "  print(b,'is the greatest num')\n",
        "else:\n",
        "  print(c,'is the greatest num')    \n"
      ],
      "metadata": {
        "colab": {
          "base_uri": "https://localhost:8080/"
        },
        "id": "ZcG1kMXQUC4i",
        "outputId": "59ab47b3-dd91-4255-bc30-d57d70444679"
      },
      "execution_count": null,
      "outputs": [
        {
          "output_type": "stream",
          "name": "stdout",
          "text": [
            "4\n",
            "8\n",
            "6\n",
            "8 is the greatest num\n"
          ]
        }
      ]
    },
    {
      "cell_type": "code",
      "source": [
        "#20.to count no of strings len is 2 or more and find first and last characters are same\n",
        "def matching(words):\n",
        "  c=0\n",
        "  for w in words:\n",
        "    if len(w)>=2 and w[0]==w[-1]:\n",
        "      c+=1\n",
        "  return c\n",
        "print(matching(['abc','aha','aba','1221']))"
      ],
      "metadata": {
        "colab": {
          "base_uri": "https://localhost:8080/"
        },
        "id": "e1fb0sibiXf2",
        "outputId": "9be86cdc-72d3-4840-c166-47568afae56d"
      },
      "execution_count": null,
      "outputs": [
        {
          "output_type": "stream",
          "name": "stdout",
          "text": [
            "3\n"
          ]
        }
      ]
    },
    {
      "cell_type": "code",
      "source": [
        "'''21. There is a walking track of 3 km(roundtrip 3+3=6)..take input from user no of days,followed by no of days,followed by no of round trips\n",
        "in 1 day...find total distance he covers in m,if round trip : < 40000m-need to walk more,>=40000m-you have done a grt job'''\n",
        "d=int(input(\"no of days:\"))\n",
        "t=int(input(\"no of round trips per day\"))\n",
        "k=d*t*6000\n",
        "print(k)\n",
        "if k<40000:\n",
        "  print('need to walk more')\n",
        "else:\n",
        "  print('great job')"
      ],
      "metadata": {
        "colab": {
          "base_uri": "https://localhost:8080/"
        },
        "id": "uLzErx5gm5hD",
        "outputId": "d8ee5407-472d-41d6-9256-074e2dd50dc2"
      },
      "execution_count": null,
      "outputs": [
        {
          "output_type": "stream",
          "name": "stdout",
          "text": [
            "no of days:5\n",
            "no of round trips per day1\n",
            "30000\n",
            "need to walk more\n"
          ]
        }
      ]
    },
    {
      "cell_type": "code",
      "source": [
        "#22.find a name which starts with given input from the list\n",
        "names=['Harshita','Sowmya','Hema','Hemika','Nikhil']\n",
        "letter=input(\"enter first letter\")\n",
        "k=[]\n",
        "for i in names:\n",
        "  if i[0]==letter:\n",
        "    k.append(i)\n",
        "    print(i)\n",
        "print(k)    "
      ],
      "metadata": {
        "colab": {
          "base_uri": "https://localhost:8080/"
        },
        "id": "g_WusSOx-MjR",
        "outputId": "90692521-7f33-46ef-b7c5-e8d4653a8d3f"
      },
      "execution_count": null,
      "outputs": [
        {
          "output_type": "stream",
          "name": "stdout",
          "text": [
            "enter first letterH\n",
            "Harshita\n",
            "Hema\n",
            "Hemika\n",
            "['Harshita', 'Hema', 'Hemika']\n"
          ]
        }
      ]
    },
    {
      "cell_type": "code",
      "source": [
        "#23.given list ...print all greater than given length\n",
        "cities=['vizag','goa','mumbai','jaipur','assam']\n",
        "l=int(input(\"enter length\"))\n",
        "k=[]\n",
        "for i in cities:\n",
        "  if len(i)>=l:\n",
        "    k.append(i)\n",
        "print(k)    "
      ],
      "metadata": {
        "colab": {
          "base_uri": "https://localhost:8080/"
        },
        "id": "fBo9Yn_Y_0lx",
        "outputId": "65ce67a0-c24a-462b-ef8f-71a3a5dd020b"
      },
      "execution_count": null,
      "outputs": [
        {
          "output_type": "stream",
          "name": "stdout",
          "text": [
            "enter length6\n",
            "['mumbai', 'jaipur']\n"
          ]
        }
      ]
    },
    {
      "cell_type": "code",
      "source": [
        "# 24. print prime nums in given range\n",
        "n=int(input('from'))\n",
        "m=int(input('to'))\n",
        "for i in range(n,m+1):\n",
        "  l=0\n",
        "  for k in range(2,i):\n",
        "    if i%k==0:\n",
        "        l=1\n",
        "    k=k+1    \n",
        "  if l==0:\n",
        "    print(i)\n",
        "  i=i+1  \n"
      ],
      "metadata": {
        "colab": {
          "base_uri": "https://localhost:8080/"
        },
        "id": "OmXEJGKYA8ED",
        "outputId": "82448d78-38fd-4e32-b8b3-37dd4227f3ce"
      },
      "execution_count": null,
      "outputs": [
        {
          "output_type": "stream",
          "name": "stdout",
          "text": [
            "from25\n",
            "to50\n",
            "29\n",
            "31\n",
            "37\n",
            "41\n",
            "43\n",
            "47\n"
          ]
        }
      ]
    },
    {
      "cell_type": "code",
      "source": [
        "#25.display first letter of each word in string\n",
        "s=\"My name is harshita\"\n",
        "b=s.split(' ')\n",
        "for i in b:\n",
        "  print(i[0].upper())"
      ],
      "metadata": {
        "colab": {
          "base_uri": "https://localhost:8080/"
        },
        "id": "j_NrwbdVGfJ3",
        "outputId": "d6634e49-3fbc-4af6-c805-430ca5a2381b"
      },
      "execution_count": null,
      "outputs": [
        {
          "output_type": "stream",
          "name": "stdout",
          "text": [
            "M\n",
            "N\n",
            "I\n",
            "H\n"
          ]
        }
      ]
    }
  ]
}