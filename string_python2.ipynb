{
  "nbformat": 4,
  "nbformat_minor": 0,
  "metadata": {
    "colab": {
      "name": "string_python2",
      "provenance": [],
      "collapsed_sections": [],
      "authorship_tag": "ABX9TyOnZJhQbqCQ3UrY9jWgIxe9",
      "include_colab_link": true
    },
    "kernelspec": {
      "name": "python3",
      "display_name": "Python 3"
    },
    "language_info": {
      "name": "python"
    }
  },
  "cells": [
    {
      "cell_type": "markdown",
      "metadata": {
        "id": "view-in-github",
        "colab_type": "text"
      },
      "source": [
        "<a href=\"https://colab.research.google.com/github/HarshitaDoki/Python_new/blob/Module_2/string_python2.ipynb\" target=\"_parent\"><img src=\"https://colab.research.google.com/assets/colab-badge.svg\" alt=\"Open In Colab\"/></a>"
      ]
    },
    {
      "cell_type": "markdown",
      "source": [
        "## format strings"
      ],
      "metadata": {
        "id": "OTqxt1KdOfpn"
      }
    },
    {
      "cell_type": "code",
      "execution_count": null,
      "metadata": {
        "colab": {
          "base_uri": "https://localhost:8080/"
        },
        "id": "V3h-TwBlNc6W",
        "outputId": "c461934d-48b6-4603-9180-f96d0e3b84ca"
      },
      "outputs": [
        {
          "output_type": "stream",
          "name": "stdout",
          "text": [
            "I want to pay 49.95 dollars for 3 pieces of item 567.\n"
          ]
        }
      ],
      "source": [
        "quantity = 3\n",
        "itemno = 567\n",
        "price = 49.95\n",
        "myorder = \"I want to pay {2} dollars for {0} pieces of item {1}.\"\n",
        "print(myorder.format(quantity, itemno, price))"
      ]
    },
    {
      "cell_type": "markdown",
      "source": [
        "## escape characters"
      ],
      "metadata": {
        "id": "jHGC-kAEOp4f"
      }
    },
    {
      "cell_type": "code",
      "source": [
        "txt = \"We are the so-called \\\"Vikings\\\" from the north.\"\n",
        "print(txt)"
      ],
      "metadata": {
        "colab": {
          "base_uri": "https://localhost:8080/"
        },
        "id": "vAW-QgyLPAbp",
        "outputId": "a5c17eda-05e0-4e6e-d9ce-e4c43a516804"
      },
      "execution_count": null,
      "outputs": [
        {
          "output_type": "stream",
          "name": "stdout",
          "text": [
            "We are the so-called \"Vikings\" from the north.\n"
          ]
        }
      ]
    },
    {
      "cell_type": "code",
      "source": [
        "a='I went to \\'RRR\\' movie'\n",
        "print(a)\n",
        "\n",
        "a='hello\\nworld'\n",
        "print(a)\n",
        "\n",
        "a='hello\\tworld'\n",
        "print(a)\n",
        "\n",
        "a='hello\\\\world'\n",
        "print(a)\n",
        "\n",
        "a='hello\\rworld'\n",
        "print(a)"
      ],
      "metadata": {
        "colab": {
          "base_uri": "https://localhost:8080/"
        },
        "id": "XyLua_0PQD1o",
        "outputId": "40ec18a1-d775-463e-89f3-e36db9388547"
      },
      "execution_count": null,
      "outputs": [
        {
          "output_type": "stream",
          "name": "stdout",
          "text": [
            "I went to 'RRR' movie\n",
            "hello\n",
            "world\n",
            "hello\tworld\n",
            "hello\\world\n",
            "hello\rworld\n"
          ]
        }
      ]
    },
    {
      "cell_type": "code",
      "source": [
        "  S=\"Hello World\"\n",
        "  C=\"e\"\n",
        "  k=\"\"\n",
        "  i=0\n",
        "  ansst=\"\"\n",
        "  for n in S:\n",
        "    if n==C:\n",
        "      k=S[i-1]\n",
        "      ansst=S.replace(S[i-1],S[i+1])\n",
        "      print(S)\n",
        "      ansst=S.replace(S[i+1],S[i-1])\n",
        "      print(ansst,S)\n",
        "    i=i+1    \n",
        "  print(ansst)"
      ],
      "metadata": {
        "colab": {
          "base_uri": "https://localhost:8080/"
        },
        "id": "BAupjNZYuGn0",
        "outputId": "ae24e768-57f3-40a7-a247-4a151de9dc6a"
      },
      "execution_count": null,
      "outputs": [
        {
          "output_type": "stream",
          "name": "stdout",
          "text": [
            "Hello World\n",
            "HeHHo WorHd Hello World\n",
            "HeHHo WorHd\n"
          ]
        }
      ]
    }
  ]
}