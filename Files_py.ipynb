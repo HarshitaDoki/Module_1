{
  "nbformat": 4,
  "nbformat_minor": 0,
  "metadata": {
    "colab": {
      "name": "Files.py",
      "provenance": [],
      "collapsed_sections": [],
      "authorship_tag": "ABX9TyPpTpFmrdhpvEPEt7Ur05eo",
      "include_colab_link": true
    },
    "kernelspec": {
      "name": "python3",
      "display_name": "Python 3"
    },
    "language_info": {
      "name": "python"
    }
  },
  "cells": [
    {
      "cell_type": "markdown",
      "metadata": {
        "id": "view-in-github",
        "colab_type": "text"
      },
      "source": [
        "<a href=\"https://colab.research.google.com/github/HarshitaDoki/Python_new/blob/Module_3/Files_py.ipynb\" target=\"_parent\"><img src=\"https://colab.research.google.com/assets/colab-badge.svg\" alt=\"Open In Colab\"/></a>"
      ]
    },
    {
      "cell_type": "code",
      "execution_count": 7,
      "metadata": {
        "id": "xBvN47l4gOPV",
        "colab": {
          "base_uri": "https://localhost:8080/"
        },
        "outputId": "e2b19fe1-21cd-4f31-801b-996ab1d765f7"
      },
      "outputs": [
        {
          "output_type": "stream",
          "name": "stdout",
          "text": [
            "life goes on and on and onlife goes on and on and onlife goes on and on and on\n"
          ]
        }
      ],
      "source": [
        "# opening a file\n",
        "f=open(\"D:\\\\pydemo.txt\",\"a\")\n",
        "f.write(\"life goes on and on and on\")\n",
        "f.close()\n",
        "f=open(\"D:\\\\pydemo.txt\",\"r\")\n",
        "print(f.read())\n",
        "f.close()"
      ]
    },
    {
      "cell_type": "code",
      "source": [
        "f=open(\"D:\\\\pydemo.txt\",'r')\n",
        "print(f.read())\n",
        "f.close()"
      ],
      "metadata": {
        "id": "qUaerAThgPoo"
      },
      "execution_count": null,
      "outputs": []
    },
    {
      "cell_type": "code",
      "source": [
        "# Reading a file upto certain limit\n",
        "f=open(\"D:\\\\pydemo.txt\",'r')\n",
        "print(f.read(20))\n",
        "f.close()"
      ],
      "metadata": {
        "id": "c6TcHkYagRjJ"
      },
      "execution_count": null,
      "outputs": []
    },
    {
      "cell_type": "code",
      "source": [
        "f = open(\"D:\\\\pydemo.txt\", \"r\")\n",
        "print(f.readline())\n",
        "f.close()"
      ],
      "metadata": {
        "id": "fnerZdLZgUQB"
      },
      "execution_count": null,
      "outputs": []
    },
    {
      "cell_type": "code",
      "source": [
        "f = open(\"D:\\\\pydemo.txt\", \"r\")\n",
        "print(f.readline())\n",
        "print(f.readline())\n",
        "f.close()"
      ],
      "metadata": {
        "id": "6HGeVYXagWs5"
      },
      "execution_count": null,
      "outputs": []
    },
    {
      "cell_type": "code",
      "source": [
        "f = open(\"D:\\\\pydemo.txt\", \"r\")\n",
        "for x in f:\n",
        "  print(x)\n",
        "f.close()"
      ],
      "metadata": {
        "id": "b0WxF4augYsg"
      },
      "execution_count": null,
      "outputs": []
    },
    {
      "cell_type": "code",
      "source": [
        "f = open(\"D:\\\\pydemo.txt\", \"a\")\n",
        "f.write(\"\\n life goes on and on and on\")\n",
        "f.close()\n",
        "#open and read the file after the appending:\n",
        "f = open(\"D:\\\\pydemo.txt\", \"r\")\n",
        "print(f.read())\n",
        "f.close()"
      ],
      "metadata": {
        "id": "exA_OUlTgcHo"
      },
      "execution_count": null,
      "outputs": []
    },
    {
      "cell_type": "code",
      "source": [
        "f = open(\"D:\\\\pydemo.txt\", \"w\")\n",
        "f.write(\"rock it in python!\")\n",
        "f.close()\n",
        "#the \"w\" method will overwrite the entire file.\n",
        "f = open(\"D:\\\\pydemo.txt\", \"r\")\n",
        "print(f.read())\n",
        "f.close()"
      ],
      "metadata": {
        "id": "-9Nfi7lPgfbJ"
      },
      "execution_count": null,
      "outputs": []
    },
    {
      "cell_type": "code",
      "source": [
        "#Create a New File\n",
        "#\"x\" - Create - will create a file, returns an error if the file exist\n",
        "#\"a\" - Append - will create a file if the specified file does not exist\n",
        "#\"w\" - Write - will create a file if the specified file does not exist\n",
        "\n",
        "f = open(\"myfileh.txt\", \"r\")\n",
        "print(f.read())\n",
        "f.close()\n"
      ],
      "metadata": {
        "id": "0BQOjVfPghoo"
      },
      "execution_count": null,
      "outputs": []
    },
    {
      "cell_type": "code",
      "source": [
        "#To delete a file, you must import the OS module,\n",
        "#and run its os.remove() function\n",
        "import os\n",
        "if os.path.exists(\"myfileh.txt\"):\n",
        "  os.remove(\"myfileh.txt\")\n",
        "else:\n",
        "  print(\"The file does not exist\")"
      ],
      "metadata": {
        "id": "j3Wi7_OpgkFQ"
      },
      "execution_count": null,
      "outputs": []
    },
    {
      "cell_type": "code",
      "source": [
        "f=open(\"E:\\\\mypydemo.txt\",'a')\n",
        "f.write(\"life goes on n on\\n\")\n",
        "f.write(\"hello my world \\nwelcome home\")\n",
        "f.close()\n",
        "f=open(\"E:\\\\mypydemo.txt\",'r')\n",
        "print(f.read())\n",
        "f.close()"
      ],
      "metadata": {
        "colab": {
          "base_uri": "https://localhost:8080/"
        },
        "id": "8eAnK9vwqYtd",
        "outputId": "58e482a1-597a-4748-f79d-3ce081e94f54"
      },
      "execution_count": null,
      "outputs": [
        {
          "output_type": "stream",
          "name": "stdout",
          "text": [
            "life goes on n on\n",
            "hello my world \n",
            "welcome home\n"
          ]
        }
      ]
    },
    {
      "cell_type": "code",
      "source": [
        "# read and print only required \n",
        "f=open(\"E:\\\\mypython.txt\",'r')\n",
        "print(f.read(2))\n",
        "f.close()\n"
      ],
      "metadata": {
        "colab": {
          "base_uri": "https://localhost:8080/"
        },
        "id": "OtDQNOpcrGez",
        "outputId": "3039aa01-216a-45e1-f76f-6a525679059d"
      },
      "execution_count": null,
      "outputs": [
        {
          "output_type": "stream",
          "name": "stdout",
          "text": [
            "li\n"
          ]
        }
      ]
    },
    {
      "cell_type": "code",
      "source": [
        "# read n no of lines and copy to another file\n",
        "f=open(\"E:\\\\mypydemo.txt\",\"r\")\n",
        "nf=open(\"E:\\\\pydemonew.txt\",'w')\n",
        "n=int(input('no of lines'))\n",
        "for i in range(n):\n",
        "  k=f.readline()\n",
        "  nf.write(k)\n",
        "  print(k)\n",
        "print('done')  \n",
        "f.close()  \n",
        "nf.close()\n",
        "\n",
        "nf=open(\"E:\\\\pydemonew.txt\",'r')\n",
        "print(nf.read())\n",
        "nf.close()"
      ],
      "metadata": {
        "colab": {
          "base_uri": "https://localhost:8080/"
        },
        "id": "Yw2QU9rjsffo",
        "outputId": "7c382f54-c0f9-4f2a-c224-30959d65e42f"
      },
      "execution_count": null,
      "outputs": [
        {
          "output_type": "stream",
          "name": "stdout",
          "text": [
            "no of lines2\n",
            "life goes on n on\n",
            "\n",
            "hello my world \n",
            "\n",
            "done\n",
            "life goes on n on\n",
            "hello my world \n",
            "\n"
          ]
        }
      ]
    },
    {
      "cell_type": "code",
      "source": [
        "#no of lines in a file\n",
        "f= open(\"E:\\\\mypydemo.txt\",\"r\")\n",
        "c=0 \n",
        "k=f.read()\n",
        "CoList = k.split(\"\\n\")  \n",
        "for i in CoList:\n",
        "    if i:\n",
        "        c += 1          \n",
        "print(\"This is the number of lines in the file\",c)\n",
        "f.close()\n"
      ],
      "metadata": {
        "colab": {
          "base_uri": "https://localhost:8080/"
        },
        "id": "mc33veTENEDd",
        "outputId": "0a2f96af-5e30-4491-f0d4-c9553ec67f74"
      },
      "execution_count": null,
      "outputs": [
        {
          "output_type": "stream",
          "name": "stdout",
          "text": [
            "This is the number of lines in the file 3\n"
          ]
        }
      ]
    },
    {
      "cell_type": "code",
      "source": [
        "#no of words in a file \n",
        "f= open(\"E:\\\\mypydemo.txt\",\"r\")\n",
        "k=f.read()\n",
        "w=0\n",
        "n=k.split()\n",
        "for i in n:\n",
        "  if i:\n",
        "    w=w+1\n",
        "print(\"no of words\",w)  \n",
        "f.close()  "
      ],
      "metadata": {
        "colab": {
          "base_uri": "https://localhost:8080/"
        },
        "id": "O-TNdabHOGvc",
        "outputId": "a45382f6-1f4d-4e02-9e42-37c678f8af87"
      },
      "execution_count": null,
      "outputs": [
        {
          "output_type": "stream",
          "name": "stdout",
          "text": [
            "no of words 10\n"
          ]
        }
      ]
    },
    {
      "cell_type": "code",
      "source": [
        "#no of vowels and consonants in a file\n",
        "f= open(\"E:\\\\mypydemo.txt\",\"r\")\n",
        "k=f.read()\n",
        "v=c=0\n",
        "vow=['a','e','i','o','u','A','E','I','O','U']\n",
        "for i in k:\n",
        "  if i in vow:\n",
        "    v+=1\n",
        "  elif  (i>='a' and i<='z') or (i>='A' and i<='Z') :\n",
        "    c=c+1\n",
        "  else:\n",
        "    pass\n",
        "print(\"no of vowels=\",v,\"\\nno of consonants=\",c)       \n",
        "f.close() "
      ],
      "metadata": {
        "colab": {
          "base_uri": "https://localhost:8080/"
        },
        "id": "-UeyFE-OOjyZ",
        "outputId": "1853faf9-c38a-4089-f16a-15ef8e4da8a4"
      },
      "execution_count": null,
      "outputs": [
        {
          "output_type": "stream",
          "name": "stdout",
          "text": [
            "no of vowels= 14 \n",
            "no of consonants= 22\n"
          ]
        }
      ]
    },
    {
      "cell_type": "code",
      "source": [
        "# no of characters in a file\n",
        "f= open(\"E:\\\\mypydemo.txt\",\"r\")\n",
        "k=f.read()\n",
        "c=0\n",
        "for i in k:\n",
        "  if i !=' ' and i!='\\n':\n",
        "    c=c+1\n",
        "print(c)    \n",
        "f.close()"
      ],
      "metadata": {
        "colab": {
          "base_uri": "https://localhost:8080/"
        },
        "id": "YhG2YAbJQk9r",
        "outputId": "5a4fea00-df5d-47c7-b001-ba389c07d042"
      },
      "execution_count": null,
      "outputs": [
        {
          "output_type": "stream",
          "name": "stdout",
          "text": [
            "36\n"
          ]
        }
      ]
    },
    {
      "cell_type": "code",
      "source": [
        "f=open(\"E:\\\\mypydemo.txt\",'r')\n",
        "print(f.readlines())\n",
        "f.close()"
      ],
      "metadata": {
        "id": "QNeuHTunRB-B",
        "colab": {
          "base_uri": "https://localhost:8080/"
        },
        "outputId": "6dfe5ae4-49b3-43b6-a3d5-5d6ae69ede4c"
      },
      "execution_count": null,
      "outputs": [
        {
          "output_type": "stream",
          "name": "stdout",
          "text": [
            "['life goes on n on\\n', 'hello my world \\n', 'welcome home']\n"
          ]
        }
      ]
    },
    {
      "cell_type": "code",
      "source": [
        "f=open(\"E:\\\\numpy.txt\",'w')\n",
        "f.write(\"2\\n\")\n",
        "f.write(\"3\\n\")\n",
        "f.write('5\\n')\n",
        "f.write('6\\n')\n",
        "f.write('12\\n')\n",
        "f.write('21\\n')\n",
        "f.write('20\\n')\n",
        "f.close()\n",
        "\n",
        "f=open(\"E:\\\\numpy.txt\",'r')\n",
        "k=f.read()\n",
        "n=k.split()\n",
        "for i in n:\n",
        "  if int(i)%3==0:\n",
        "    print(i)"
      ],
      "metadata": {
        "colab": {
          "base_uri": "https://localhost:8080/"
        },
        "id": "djUf9MT6ukqp",
        "outputId": "117ec9e0-2720-46f9-a44f-114c5c4b12cf"
      },
      "execution_count": null,
      "outputs": [
        {
          "output_type": "stream",
          "name": "stdout",
          "text": [
            "3\n",
            "6\n",
            "12\n",
            "21\n"
          ]
        }
      ]
    },
    {
      "cell_type": "code",
      "source": [
        "f=open(\"E:\\\\mypydemo.txt\",'r')\n",
        "k=f.read()\n",
        "k=k.split()\n",
        "l=[]\n",
        "for i in k:\n",
        "  if i[0].islower():\n",
        "    l.append(i.capitalize())\n",
        "  else:\n",
        "    l.append(i)\n",
        "print(l)  \n",
        "f.close()"
      ],
      "metadata": {
        "colab": {
          "base_uri": "https://localhost:8080/"
        },
        "id": "lGN4ntnigwHh",
        "outputId": "a8d1653b-25c6-4ac4-fcef-d0390514d2e5"
      },
      "execution_count": null,
      "outputs": [
        {
          "output_type": "stream",
          "name": "stdout",
          "text": [
            "['Life', 'Goes', 'On', 'N', 'On', 'Hello', 'My', 'World', 'Welcome', 'Home']\n"
          ]
        }
      ]
    },
    {
      "cell_type": "code",
      "source": [
        "f=open(\"E:\\\\mypydemo.txt\",'r')\n",
        "f1=f.read().split()\n",
        "k=input()\n",
        "print(f1.count(k))"
      ],
      "metadata": {
        "colab": {
          "base_uri": "https://localhost:8080/"
        },
        "id": "47BwhLvvnYe9",
        "outputId": "e3957550-0cec-4085-934a-f5c14039e920"
      },
      "execution_count": null,
      "outputs": [
        {
          "output_type": "stream",
          "name": "stdout",
          "text": [
            "on\n",
            "2\n"
          ]
        }
      ]
    }
  ]
}