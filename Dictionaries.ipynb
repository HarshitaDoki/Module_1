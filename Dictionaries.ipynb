{
  "nbformat": 4,
  "nbformat_minor": 0,
  "metadata": {
    "colab": {
      "name": "Dictionaries",
      "provenance": [],
      "collapsed_sections": [],
      "authorship_tag": "ABX9TyPNjiC9csO+upAHIpkf9ESU",
      "include_colab_link": true
    },
    "kernelspec": {
      "name": "python3",
      "display_name": "Python 3"
    },
    "language_info": {
      "name": "python"
    }
  },
  "cells": [
    {
      "cell_type": "markdown",
      "metadata": {
        "id": "view-in-github",
        "colab_type": "text"
      },
      "source": [
        "<a href=\"https://colab.research.google.com/github/HarshitaDoki/Python_new/blob/Module_2/Dictionaries.ipynb\" target=\"_parent\"><img src=\"https://colab.research.google.com/assets/colab-badge.svg\" alt=\"Open In Colab\"/></a>"
      ]
    },
    {
      "cell_type": "markdown",
      "source": [
        "Dictionaries are used to store data values in key:value pairs.\n",
        "\n",
        "A dictionary is a collection which is ordered*, changeable and do not allow duplicates."
      ],
      "metadata": {
        "id": "w-ccjqm5dunW"
      }
    },
    {
      "cell_type": "code",
      "execution_count": null,
      "metadata": {
        "colab": {
          "base_uri": "https://localhost:8080/"
        },
        "id": "0IQFJPSzdFTc",
        "outputId": "48398fc0-a4f6-4067-e8aa-ba0ba99290f6"
      },
      "outputs": [
        {
          "output_type": "stream",
          "name": "stdout",
          "text": [
            "{'clg': 'gitam', 'place': 'vskp', 'branch': 'cse-aiml'}\n",
            "vskp\n",
            "3\n"
          ]
        }
      ],
      "source": [
        "self={\n",
        "    \"clg\": \"gitam\",\n",
        "    \"place\":\"vskp\",\n",
        "    \"branch\":\"cse-aiml\"\n",
        "}\n",
        "print(self)\n",
        "print(self[\"place\"]) \n",
        "print(len(self))"
      ]
    },
    {
      "cell_type": "markdown",
      "source": [
        "Dictionaries cannot have two items with the same key.\n",
        "Duplicate values will overwrite existing values"
      ],
      "metadata": {
        "id": "-RLNuV53fmBO"
      }
    },
    {
      "cell_type": "code",
      "source": [
        "self={\n",
        "    \"clg\": \"gitam\",\n",
        "    \"place\":\"vskp\",\n",
        "    \"branch\":\"cse-aiml\",\n",
        "    \"place\":\"delhi\"\n",
        "}\n",
        "print(self)"
      ],
      "metadata": {
        "colab": {
          "base_uri": "https://localhost:8080/"
        },
        "id": "UqP0mCXffg7n",
        "outputId": "67f54f17-67e5-4d2d-b08a-432e67e4d3d9"
      },
      "execution_count": null,
      "outputs": [
        {
          "output_type": "stream",
          "name": "stdout",
          "text": [
            "{'clg': 'gitam', 'place': 'delhi', 'branch': 'cse-aiml'}\n"
          ]
        }
      ]
    },
    {
      "cell_type": "code",
      "source": [
        "#The values in dictionary items can be of any data type\n",
        "dic = {\n",
        "  \"brand\": \"Ford\",\n",
        "  \"electric\": False,\n",
        "  \"year\": 1964,\n",
        "  \"colors\": [\"red\", \"white\", \"blue\"]\n",
        "}\n",
        "print(dic)\n",
        "print(type(dic))"
      ],
      "metadata": {
        "colab": {
          "base_uri": "https://localhost:8080/"
        },
        "id": "mg3dvULrfzwm",
        "outputId": "aab9c630-e353-47bc-8ac0-29f02fcc922f"
      },
      "execution_count": null,
      "outputs": [
        {
          "output_type": "stream",
          "name": "stdout",
          "text": [
            "{'brand': 'Ford', 'electric': False, 'year': 1964, 'colors': ['red', 'white', 'blue']}\n",
            "<class 'dict'>\n"
          ]
        }
      ]
    },
    {
      "cell_type": "code",
      "source": [
        "# accessing items\n",
        "self={\n",
        "    \"clg\": \"gitam\",\n",
        "    \"place\":\"vskp\",\n",
        "    \"branch\":\"cse-aiml\"\n",
        "}\n",
        "x=self['branch']\n",
        "print(x)\n",
        "#or\n",
        "y=self.get('place')\n",
        "print(y)"
      ],
      "metadata": {
        "colab": {
          "base_uri": "https://localhost:8080/"
        },
        "id": "to4Lk1zNgfQ2",
        "outputId": "4a6a7141-ee32-4611-e5c4-fe87eaa903e3"
      },
      "execution_count": null,
      "outputs": [
        {
          "output_type": "stream",
          "name": "stdout",
          "text": [
            "cse-aiml\n",
            "vskp\n"
          ]
        }
      ]
    },
    {
      "cell_type": "code",
      "source": [
        "#pl..name..age..f..cgpa..phone num......sec\n",
        "placement={\n",
        "    \"name\":input(\"enter name\"),\n",
        "    \"age\": int(input(\"enter age\")),\n",
        "    \"cgpa\": float(input('enter cgpa')),\n",
        "    \"section\":input('enter section'),\n",
        "    \"phone-num\": int(input('enter phone num'))\n",
        "}\n",
        "print(placement[\"cgpa\"])\n",
        "info=placement.keys() # The keys() method will return a list of all the keys in the dictionary \n",
        "print(info)"
      ],
      "metadata": {
        "colab": {
          "base_uri": "https://localhost:8080/"
        },
        "id": "fDN1cL-lg1-m",
        "outputId": "1fe283d5-e4bf-4abd-b45e-f19c8466267a"
      },
      "execution_count": null,
      "outputs": [
        {
          "output_type": "stream",
          "name": "stdout",
          "text": [
            "enter namedhjnmk\n",
            "enter age21\n",
            "enter cgpa9.2\n",
            "enter sectionghxfsr\n",
            "enter phone num76535609543\n",
            "9.2\n"
          ]
        }
      ]
    },
    {
      "cell_type": "code",
      "source": [
        "# Add a new item to the original dictionary\n",
        "self={\n",
        "    \"clg\": \"gitam\",\n",
        "    \"place\":\"vskp\",\n",
        "    \"branch\":\"cse-aiml\"\n",
        "}\n",
        "print(self)\n",
        "self[\"year\"]=\"2021\"\n",
        "print(self)"
      ],
      "metadata": {
        "id": "T0uY-HltjI_u",
        "colab": {
          "base_uri": "https://localhost:8080/"
        },
        "outputId": "1c089428-6cb5-445d-daff-6bd51efc47ed"
      },
      "execution_count": null,
      "outputs": [
        {
          "output_type": "stream",
          "name": "stdout",
          "text": [
            "{'clg': 'gitam', 'place': 'vskp', 'branch': 'cse-aiml'}\n",
            "{'clg': 'gitam', 'place': 'vskp', 'branch': 'cse-aiml', 'year': '2021'}\n"
          ]
        }
      ]
    },
    {
      "cell_type": "code",
      "source": [
        "# The values() method will return a list of all the values in the dictionary.\n",
        "self={\n",
        "    \"clg\": \"gitam\",\n",
        "    \"place\":\"vskp\",\n",
        "    \"branch\":\"cse-aiml\"\n",
        "}\n",
        "y=self.values()\n",
        "print(y)\n"
      ],
      "metadata": {
        "colab": {
          "base_uri": "https://localhost:8080/"
        },
        "id": "R73ezaFBEk1H",
        "outputId": "1eacd7b1-c374-4dbb-b8f5-ba290e2b91fe"
      },
      "execution_count": null,
      "outputs": [
        {
          "output_type": "stream",
          "name": "stdout",
          "text": [
            "dict_values(['gitam', 'vskp', 'cse-aiml'])\n"
          ]
        }
      ]
    },
    {
      "cell_type": "code",
      "source": [
        "#The items() method will return each item in a dictionary, as tuples in a list.\n",
        "self={\n",
        "    \"clg\": \"gitam\",\n",
        "    \"place\":\"vskp\",\n",
        "    \"branch\":\"cse-aiml\"\n",
        "}\n",
        "y=self.items()\n",
        "print(y)"
      ],
      "metadata": {
        "colab": {
          "base_uri": "https://localhost:8080/"
        },
        "id": "DeqvKgnWGKhl",
        "outputId": "080ffa46-da01-4403-898b-7143696bf70f"
      },
      "execution_count": null,
      "outputs": [
        {
          "output_type": "stream",
          "name": "stdout",
          "text": [
            "dict_items([('clg', 'gitam'), ('place', 'vskp'), ('branch', 'cse-aiml')])\n"
          ]
        }
      ]
    },
    {
      "cell_type": "code",
      "source": [
        "#The update() method will update the dictionary with the items from the given argument.\n",
        "thisdict = {\n",
        "  \"brand\": \"Ford\",\n",
        "  \"model\": \"Mustang\",\n",
        "  \"year\": 1964\n",
        "}\n",
        "thisdict.update({\"year\": 2020})\n",
        "print(thisdict)"
      ],
      "metadata": {
        "colab": {
          "base_uri": "https://localhost:8080/"
        },
        "id": "gh749YjqHr1G",
        "outputId": "3debb48a-a79f-496c-e72d-1f5174aa43a0"
      },
      "execution_count": null,
      "outputs": [
        {
          "output_type": "stream",
          "name": "stdout",
          "text": [
            "{'brand': 'Ford', 'model': 'Mustang', 'year': 2020}\n"
          ]
        }
      ]
    },
    {
      "cell_type": "code",
      "source": [
        "def my_details():\n",
        " det={\n",
        "  'Name':'D.Harshita',\n",
        "  'Roll Number':'VU21CSEN0300039',\n",
        "  'Branch':'CSE',\n",
        "  'Specialization':'AIML',\n",
        "  'Email ID':'dharshit@gitam.in',\n",
        "  'Moodle ID':'HARSHITA DOKI vu21csen0300039',\n",
        "  'GitHub ID':'HarshitaDoki',\n",
        "  'Replit ID':'D.HARSHITA VU21CSEN0300039',\n",
        "  'Semester':'2',\n",
        "  'Year(1-4)':'1'\n",
        " }\n",
        " return det\n",
        "dt = my_details()\n",
        "print(dt)\n"
      ],
      "metadata": {
        "colab": {
          "base_uri": "https://localhost:8080/"
        },
        "id": "Kqq4mmlFFYow",
        "outputId": "6a9f0cad-9e08-4690-8c4b-8e699bc677c8"
      },
      "execution_count": null,
      "outputs": [
        {
          "output_type": "stream",
          "name": "stdout",
          "text": [
            "{'Name': 'D.Harshita', 'Roll Number': 'VU21CSEN0300039', 'Branch': 'CSE', 'Specialization': 'AIML', 'Email ID': 'dharshit@gitam.in', 'Moodle ID': 'HARSHITA DOKI vu21csen0300039', 'GitHub ID': 'HarshitaDoki', 'Replit ID': 'D.HARSHITA VU21CSEN0300039', 'Semester': '2', 'Year(1-4)': '1'}\n"
          ]
        }
      ]
    },
    {
      "cell_type": "code",
      "source": [
        "all_freq = {}\n",
        "st=\"my name is hari\" \n",
        "for i in st:\n",
        "    if i in all_freq:\n",
        "        all_freq[i] += 1\n",
        "    else:\n",
        "        all_freq[i] = 1\n",
        "print(all_freq)        "
      ],
      "metadata": {
        "colab": {
          "base_uri": "https://localhost:8080/"
        },
        "id": "qpOgR1kLlE8b",
        "outputId": "9700bf04-a44a-447e-f981-e7944873e0cb"
      },
      "execution_count": null,
      "outputs": [
        {
          "output_type": "stream",
          "name": "stdout",
          "text": [
            "{'m': 2, 'y': 1, ' ': 3, 'n': 1, 'a': 2, 'e': 1, 'i': 2, 's': 1, 'h': 1, 'r': 1}\n"
          ]
        }
      ]
    },
    {
      "cell_type": "code",
      "source": [
        "Dict={0:0, 1:1}\n",
        "def fibo(n):\n",
        "    if n not in Dict:\n",
        "        val=fibo(n-1)+fibo(n-2)\n",
        "        Dict[n]=val\n",
        "    return Dict[n]\n",
        "n=int(input(\"Enter the value of n:\"))\n",
        "print(\"Fibonacci(\", n,\")= \", fibo(n))\n",
        "print(Dict)"
      ],
      "metadata": {
        "colab": {
          "base_uri": "https://localhost:8080/"
        },
        "id": "0Cepwrw0mgS7",
        "outputId": "33600f76-cea8-403d-9f06-6e9efae97502"
      },
      "execution_count": null,
      "outputs": [
        {
          "output_type": "stream",
          "name": "stdout",
          "text": [
            "Enter the value of n:10\n",
            "Fibonacci( 10 )=  55\n",
            "{0: 0, 1: 1, 2: 1, 3: 2, 4: 3, 5: 5, 6: 8, 7: 13, 8: 21, 9: 34, 10: 55}\n"
          ]
        }
      ]
    },
    {
      "cell_type": "code",
      "source": [
        "myfamily = {\n",
        "  \"child1\" : {\n",
        "    \"name\" : \"Emil\",\n",
        "    \"year\" : 2004\n",
        "  },\n",
        "  \"child2\" : {\n",
        "    \"name\" : \"Tobias\",\n",
        "    \"year\" : 2007\n",
        "  },\n",
        "  \"child3\" : {\n",
        "    \"name\" : \"Linus\",\n",
        "    \"year\" : 2011\n",
        "  }\n",
        "}\n",
        "for p_id, p_info in myfamily.items():\n",
        "    print(\"\\nPerson ID:\", p_id)\n",
        "    \n",
        "    for key in p_info:\n",
        "        print(key + ':', p_info[key])"
      ],
      "metadata": {
        "colab": {
          "base_uri": "https://localhost:8080/"
        },
        "id": "CM8mcWYXoF0R",
        "outputId": "e1a50f1d-4e3e-440a-dad5-cb0917291a5c"
      },
      "execution_count": null,
      "outputs": [
        {
          "output_type": "stream",
          "name": "stdout",
          "text": [
            "\n",
            "Person ID: child1\n",
            "name: Emil\n",
            "year: 2004\n",
            "\n",
            "Person ID: child2\n",
            "name: Tobias\n",
            "year: 2007\n",
            "\n",
            "Person ID: child3\n",
            "name: Linus\n",
            "year: 2011\n"
          ]
        }
      ]
    },
    {
      "cell_type": "code",
      "source": [
        "d1 = {'a': 100, 'b': 200, 'c':300}\n",
        "\n",
        "d2 = {'a': 300, 'b': 200, 'd':400}\n",
        "\n",
        "d3 = {}\n",
        "\n",
        "for i, j in d1.items():\n",
        "    for x, y in d2.items():\n",
        "        if i == x:\n",
        "            d3[i]=(j+y)\n",
        "            \n",
        "for i, j in d1.items():\n",
        "  if i not in d3:\n",
        "    d3[i]=j\n",
        "for i, j in d2.items():\n",
        "  if i not in d3:\n",
        "    d3[i]=j\n",
        "print(d3)"
      ],
      "metadata": {
        "colab": {
          "base_uri": "https://localhost:8080/"
        },
        "id": "PdxUqicuxs6S",
        "outputId": "5fbea864-381b-4e73-bea6-115331bfb683"
      },
      "execution_count": null,
      "outputs": [
        {
          "output_type": "stream",
          "name": "stdout",
          "text": [
            "{'a': 400, 'b': 400, 'c': 300, 'd': 400}\n"
          ]
        }
      ]
    },
    {
      "cell_type": "code",
      "source": [
        "n=int(input())\n",
        "d={}\n",
        "for i in range(1,6):\n",
        "  d[i]=i*n\n",
        "print(d)  "
      ],
      "metadata": {
        "colab": {
          "base_uri": "https://localhost:8080/"
        },
        "id": "pQrBXET8lqsY",
        "outputId": "f36df71e-157d-4add-d1cd-1457a5f347f3"
      },
      "execution_count": null,
      "outputs": [
        {
          "output_type": "stream",
          "name": "stdout",
          "text": [
            "8\n",
            "{1: 8, 2: 16, 3: 24, 4: 32, 5: 40}\n"
          ]
        }
      ]
    },
    {
      "cell_type": "code",
      "source": [
        "d1 = {'a': 100, 'b': 200, 'c':300 ,'d':50,'e':150}\n",
        "n=int(input())\n",
        "k=[]\n",
        "k=d1.values()\n",
        "k=sorted(k)\n",
        "k.reverse()\n",
        "for i in range(1,n+1):\n",
        "   print(k[i])"
      ],
      "metadata": {
        "colab": {
          "base_uri": "https://localhost:8080/"
        },
        "id": "SoE8CxPIiAff",
        "outputId": "b90d3d53-ac4c-4200-cc2b-0e6ec96c74dc"
      },
      "execution_count": null,
      "outputs": [
        {
          "output_type": "stream",
          "name": "stdout",
          "text": [
            "4\n",
            "200\n",
            "150\n",
            "100\n",
            "50\n"
          ]
        }
      ]
    },
    {
      "cell_type": "code",
      "source": [
        "d1 = {'a': 100, 'b': 200, 'c':300 ,'d':50,'e':150}\n",
        "k=d1.values()\n",
        "s=0\n",
        "for i in k:\n",
        "  s=s+i\n",
        "print(s)"
      ],
      "metadata": {
        "colab": {
          "base_uri": "https://localhost:8080/"
        },
        "id": "wx7jmYHKtUoz",
        "outputId": "5586e503-dedb-4cee-abda-67842b0d9dde"
      },
      "execution_count": null,
      "outputs": [
        {
          "output_type": "stream",
          "name": "stdout",
          "text": [
            "800\n"
          ]
        }
      ]
    }
  ]
}