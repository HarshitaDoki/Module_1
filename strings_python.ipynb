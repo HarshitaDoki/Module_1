{
  "nbformat": 4,
  "nbformat_minor": 0,
  "metadata": {
    "colab": {
      "name": "strings_python",
      "provenance": [],
      "authorship_tag": "ABX9TyN3tvnh+Gb+fJ3QJ0iK7V/g",
      "include_colab_link": true
    },
    "kernelspec": {
      "name": "python3",
      "display_name": "Python 3"
    },
    "language_info": {
      "name": "python"
    }
  },
  "cells": [
    {
      "cell_type": "markdown",
      "metadata": {
        "id": "view-in-github",
        "colab_type": "text"
      },
      "source": [
        "<a href=\"https://colab.research.google.com/github/HarshitaDoki/Python_new/blob/Module_1/strings_python.ipynb\" target=\"_parent\"><img src=\"https://colab.research.google.com/assets/colab-badge.svg\" alt=\"Open In Colab\"/></a>"
      ]
    },
    {
      "cell_type": "markdown",
      "source": [
        "## to print string and its length "
      ],
      "metadata": {
        "id": "Lo1QAJOHBBIa"
      }
    },
    {
      "cell_type": "code",
      "execution_count": null,
      "metadata": {
        "colab": {
          "base_uri": "https://localhost:8080/"
        },
        "id": "C0XRJJAR-w3q",
        "outputId": "959d7550-0f10-481a-8363-f9dd8e5e291e"
      },
      "outputs": [
        {
          "output_type": "stream",
          "name": "stdout",
          "text": [
            "87\n",
            " HI, I am Harshita\n",
            "       I am learninng python ...\n",
            "       I am pursuing btech in gitam\n"
          ]
        }
      ],
      "source": [
        "a=''' HI, I am Harshita\n",
        "       I am learninng python ...\n",
        "       I am pursuing btech in gitam'''\n",
        "print(len(a))\n",
        "print(a)  "
      ]
    },
    {
      "cell_type": "markdown",
      "source": [
        "## SEARCH A WORD IN STRING"
      ],
      "metadata": {
        "id": "WVwFrtC9APv5"
      }
    },
    {
      "cell_type": "code",
      "source": [
        "a=''' HI, I am Harshita\n",
        "       I am learninng python ...\n",
        "       I am pursuing btech in gitam'''\n",
        "print('python' in a)  \n",
        "print('hello' in a)    \n",
        "print('I' in a) \n",
        "print('z' in a)\n",
        "print('bt' in a)"
      ],
      "metadata": {
        "colab": {
          "base_uri": "https://localhost:8080/"
        },
        "id": "4C5UmQadAJAS",
        "outputId": "df76b247-5af4-4cc2-b161-3ec14c46dc81"
      },
      "execution_count": null,
      "outputs": [
        {
          "output_type": "stream",
          "name": "stdout",
          "text": [
            "True\n",
            "False\n",
            "True\n",
            "False\n",
            "True\n"
          ]
        }
      ]
    },
    {
      "cell_type": "markdown",
      "source": [
        "## if not"
      ],
      "metadata": {
        "id": "z1oKSTpoBNxC"
      }
    },
    {
      "cell_type": "code",
      "source": [
        "a=''' HI, I am Harshita\n",
        "       I am learninng python ...\n",
        "       I am pursuing btech in gitam'''\n",
        "print('class' not in a)\n",
        "print('gitam' not in a)       "
      ],
      "metadata": {
        "colab": {
          "base_uri": "https://localhost:8080/"
        },
        "id": "-DK1tDDhA-Wt",
        "outputId": "dddaa859-e1ec-415d-afd5-387fb1d82586"
      },
      "execution_count": null,
      "outputs": [
        {
          "output_type": "stream",
          "name": "stdout",
          "text": [
            "True\n",
            "False\n"
          ]
        }
      ]
    },
    {
      "cell_type": "code",
      "source": [
        "a=''' HI, I am Harshita\n",
        "       I am learninng python ...\n",
        "       I am pursuing btech in gitam'''\n",
        "print('calss' not in a,'gitam' not in a)    \n",
        "print('class' in a,'gitam' in a)   "
      ],
      "metadata": {
        "colab": {
          "base_uri": "https://localhost:8080/"
        },
        "id": "PDn5npzWCZF9",
        "outputId": "41fb3cac-237a-4eb4-fe19-a1addd7059f4"
      },
      "execution_count": null,
      "outputs": [
        {
          "output_type": "stream",
          "name": "stdout",
          "text": [
            "True False\n",
            "False True\n"
          ]
        }
      ]
    },
    {
      "cell_type": "markdown",
      "source": [
        "## slicing of a string"
      ],
      "metadata": {
        "id": "m3BltL_oCxto"
      }
    },
    {
      "cell_type": "code",
      "source": [
        "a='I went to RRR movie'\n",
        "print(a[2:5],a[8:13])\n",
        "print(a[:9])\n",
        "print(a[4:])"
      ],
      "metadata": {
        "colab": {
          "base_uri": "https://localhost:8080/"
        },
        "id": "DfLNH9yqC0SJ",
        "outputId": "4cf4c4f0-ff4e-41b5-be5c-581960f7eec8"
      },
      "execution_count": null,
      "outputs": [
        {
          "output_type": "stream",
          "name": "stdout",
          "text": [
            "wen o RRR\n",
            "I went to\n",
            "nt to RRR movie\n"
          ]
        }
      ]
    },
    {
      "cell_type": "markdown",
      "source": [
        "## reverse of a string"
      ],
      "metadata": {
        "id": "oYiPtYq8Fjn6"
      }
    },
    {
      "cell_type": "code",
      "source": [
        "a='I went to RRR movie'\n",
        "print(a[-8:-1])"
      ],
      "metadata": {
        "colab": {
          "base_uri": "https://localhost:8080/"
        },
        "id": "nySdewsIFjKA",
        "outputId": "5283251c-e745-43ac-dcff-85a98f16e709"
      },
      "execution_count": null,
      "outputs": [
        {
          "output_type": "stream",
          "name": "stdout",
          "text": [
            "RR movi\n"
          ]
        }
      ]
    },
    {
      "cell_type": "markdown",
      "source": [
        "## modifying a string"
      ],
      "metadata": {
        "id": "LQvX3NNjGYCI"
      }
    },
    {
      "cell_type": "code",
      "source": [
        "a =\"  I went to RRR movie \"\n",
        "print(a.upper())\n",
        "print(a.lower())\n",
        "print(a.strip()) # removing spaces at the begining or end of the string"
      ],
      "metadata": {
        "colab": {
          "base_uri": "https://localhost:8080/"
        },
        "id": "ba_1QXdyGbFv",
        "outputId": "65838ed9-a1fb-4862-9c13-052fe16d9a44"
      },
      "execution_count": null,
      "outputs": [
        {
          "output_type": "stream",
          "name": "stdout",
          "text": [
            "  I WENT TO RRR MOVIE \n",
            "  i went to rrr movie \n",
            "I went to RRR movie\n",
            "\n"
          ]
        }
      ]
    },
    {
      "cell_type": "markdown",
      "source": [
        "## replacing"
      ],
      "metadata": {
        "id": "sSdjF9JBIqK7"
      }
    },
    {
      "cell_type": "code",
      "source": [
        "a='I went to RRR movie'\n",
        "print(a.replace('t','k'))\n",
        "print(a.replace('R','rajamouli'))"
      ],
      "metadata": {
        "colab": {
          "base_uri": "https://localhost:8080/"
        },
        "id": "dFUoBbGsIsJ4",
        "outputId": "2c8cf54f-f6b3-4403-e669-19c1049daa45"
      },
      "execution_count": null,
      "outputs": [
        {
          "output_type": "stream",
          "name": "stdout",
          "text": [
            "I wenk ko RRR movie\n",
            "I went to rajamoulirajamoulirajamouli movie\n"
          ]
        }
      ]
    },
    {
      "cell_type": "markdown",
      "source": [
        "# concatenate strings"
      ],
      "metadata": {
        "id": "9mgS3LPCG7lF"
      }
    },
    {
      "cell_type": "code",
      "source": [
        "a = \"Hello\"\n",
        "b = \"World\"\n",
        "c=a+b\n",
        "print(c)\n",
        "c = a + \" to the new \"+b\n",
        "print(c)"
      ],
      "metadata": {
        "colab": {
          "base_uri": "https://localhost:8080/"
        },
        "id": "Lbnl3bIeHAfp",
        "outputId": "0f5c6d36-5a2f-4dba-9bd6-fcb49dfb6f44"
      },
      "execution_count": null,
      "outputs": [
        {
          "output_type": "stream",
          "name": "stdout",
          "text": [
            "HelloWorld\n",
            "Hello to the new World\n"
          ]
        }
      ]
    }
  ]
}