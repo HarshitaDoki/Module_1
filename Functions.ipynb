{
  "nbformat": 4,
  "nbformat_minor": 0,
  "metadata": {
    "colab": {
      "name": "Functions",
      "provenance": [],
      "authorship_tag": "ABX9TyNxlQSu+QUkGHp5j2/LJr8O",
      "include_colab_link": true
    },
    "kernelspec": {
      "name": "python3",
      "display_name": "Python 3"
    },
    "language_info": {
      "name": "python"
    }
  },
  "cells": [
    {
      "cell_type": "markdown",
      "metadata": {
        "id": "view-in-github",
        "colab_type": "text"
      },
      "source": [
        "<a href=\"https://colab.research.google.com/github/HarshitaDoki/Python_new/blob/Module_2/Functions.ipynb\" target=\"_parent\"><img src=\"https://colab.research.google.com/assets/colab-badge.svg\" alt=\"Open In Colab\"/></a>"
      ]
    },
    {
      "cell_type": "code",
      "execution_count": null,
      "metadata": {
        "colab": {
          "base_uri": "https://localhost:8080/"
        },
        "id": "RyEMApxHW_Ay",
        "outputId": "bcc0de46-213b-48f2-ec60-fecd26863759"
      },
      "outputs": [
        {
          "output_type": "stream",
          "name": "stdout",
          "text": [
            "hi\n",
            "hello\n",
            "how r u?\n"
          ]
        }
      ],
      "source": [
        "def harshita(): #function header .....a function is defined using the def keyword\n",
        " print(\"hi\")\n",
        " print(\"hello\")\n",
        " print(\"how r u?\")\n",
        "harshita()  \n"
      ]
    },
    {
      "cell_type": "markdown",
      "source": [
        "If you do not know how many arguments that will be passed into your function, add a * before the parameter name in the function definition.\n",
        "\n",
        "This way the function will receive a tuple of arguments, and can access the items accordingly:"
      ],
      "metadata": {
        "id": "QCRC5p9gZZL2"
      }
    },
    {
      "cell_type": "code",
      "source": [
        "def my_cars(*cars):\n",
        "  print(\"The latest car is \" + cars[2])\n",
        "\n",
        "my_cars(\"benz\", \"bmw\", \"mg\")"
      ],
      "metadata": {
        "colab": {
          "base_uri": "https://localhost:8080/"
        },
        "id": "LEk-f1mfYFOe",
        "outputId": "474637d8-6063-4b3e-8bf0-03079e834ebc"
      },
      "execution_count": null,
      "outputs": [
        {
          "output_type": "stream",
          "name": "stdout",
          "text": [
            "The latest car is mg\n"
          ]
        }
      ]
    },
    {
      "cell_type": "markdown",
      "source": [
        "If you do not know how many keyword arguments that will be passed into your function, add two asterisk: ** before the parameter name in the function definition.\n",
        "\n",
        "This way the function will receive a dictionary of arguments, and can access the items accordingly:"
      ],
      "metadata": {
        "id": "2enTMmzpZpmF"
      }
    },
    {
      "cell_type": "code",
      "source": [
        "def voting(age,gender,name):\n",
        "  print(\"name=\",name,\"age=\",age,\"gender=\",gender)\n",
        "  if(age<18):\n",
        "    print(\"not eligible for voting\")\n",
        "  else:\n",
        "    print(\"eligible for voting\") \n",
        "voting(age=int(input(\"enter ur age:\")),gender=input(\"enter ur gender\"),name=input(\"enter ur name\"))"
      ],
      "metadata": {
        "colab": {
          "base_uri": "https://localhost:8080/"
        },
        "id": "gXsxwqabZvMl",
        "outputId": "9b9b31b0-e0b0-471b-f38c-1a8ed3787c9c"
      },
      "execution_count": null,
      "outputs": [
        {
          "output_type": "stream",
          "name": "stdout",
          "text": [
            "enter ur age:56\n",
            "enter ur gendermale\n",
            "enter ur namethanos\n",
            "name= thanos age= 56 gender= male\n",
            "eligible for voting\n"
          ]
        }
      ]
    },
    {
      "cell_type": "code",
      "source": [
        "def voting(*vote):\n",
        "  if vote[2]>18:\n",
        "    print(\"u r eligible as ur age is\",vote[2])\n",
        "  else:\n",
        "      print(\"u r not eligible as ur age is not greater than 18\")\n",
        "voting(\"harshita\",\"female\",30)  "
      ],
      "metadata": {
        "colab": {
          "base_uri": "https://localhost:8080/"
        },
        "id": "ICrWK-xDe2Kv",
        "outputId": "43ad7a29-6964-4e11-a061-925e26739e61"
      },
      "execution_count": null,
      "outputs": [
        {
          "output_type": "stream",
          "name": "stdout",
          "text": [
            "u r eligible as ur age is 30\n"
          ]
        }
      ]
    },
    {
      "cell_type": "markdown",
      "source": [
        "Python built_in functions"
      ],
      "metadata": {
        "id": "lXk_dH8UlPHX"
      }
    },
    {
      "cell_type": "code",
      "source": [
        "a=-23.5\n",
        "b=abs(a) #abs....absolute\n",
        "print(a,b)\n",
        "# pow...power\n",
        "c=pow(b,2)\n",
        "print(c)\n",
        "# bin...gives binary num\n",
        "k=bin(5)\n",
        "print(k)\n",
        "\n"
      ],
      "metadata": {
        "colab": {
          "base_uri": "https://localhost:8080/"
        },
        "id": "HqsiToBtlDkI",
        "outputId": "9c610208-25c5-437f-cb97-28ad1fe76c12"
      },
      "execution_count": null,
      "outputs": [
        {
          "output_type": "stream",
          "name": "stdout",
          "text": [
            "-23.5 23.5\n",
            "552.25\n",
            "0b101\n"
          ]
        }
      ]
    }
  ]
}